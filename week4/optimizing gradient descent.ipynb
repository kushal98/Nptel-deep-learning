{
 "cells": [
  {
   "cell_type": "code",
   "execution_count": 1,
   "metadata": {},
   "outputs": [],
   "source": [
    "import numpy as np\n",
    "import pandas as pd\n",
    "\n",
    "df = pd.read_csv('toys.csv')"
   ]
  },
  {
   "cell_type": "code",
   "execution_count": 6,
   "metadata": {},
   "outputs": [],
   "source": [
    "def sigmoid(w,b,x):\n",
    "    return 1/(1+np.exp(-(w*x+b)))\n",
    "\n",
    "def error(w,b):\n",
    "    err = 0\n",
    "    i=0\n",
    "    for x,y in zip(X,Y):\n",
    "        fx = sigmoid(w,b,x)\n",
    "        err = err+0.5*(fx-y)**2\n",
    "    return err\n",
    "\n",
    "def grad_w(w,b,x,y):\n",
    "    fx = sigmoid(w,b,x)\n",
    "    return (fx-y)*fx*(1-fx)*x\n",
    "\n",
    "def grad_b(w,b,x,y):\n",
    "    fx = sigmoid(w,b,x)\n",
    "    return (fx-y)*fx*(1-fx)"
   ]
  },
  {
   "cell_type": "code",
   "execution_count": 7,
   "metadata": {},
   "outputs": [],
   "source": [
    "def momentum_gd():\n",
    "    w,b,eta = init_w,init_b,1.0\n",
    "    prev_v_w,prev_v_b,gamma = 0,0,0.9\n",
    "    for i in range(max_epochs):\n",
    "        dw,db=0,0\n",
    "        for x,y in zip(X,Y):\n",
    "            dw = dw + grad_w(w,b,x,y)\n",
    "            db = db + grad_b(w,b,x,y)\n",
    "        \n",
    "        v_w = gamma*prev_v_w + eta*dw\n",
    "        v_b = gamma*prev_v_b + eta*db\n",
    "        w = w - v_w\n",
    "        b = b - v_b\n",
    "        prev_v_w = v_w\n",
    "        prev_v_b = v_b"
   ]
  },
  {
   "cell_type": "code",
   "execution_count": 8,
   "metadata": {},
   "outputs": [],
   "source": [
    "def NAG():\n",
    "    w,b,eta = init_w,init_b,1.0\n",
    "    prev_v_w,prev_v_b,gamma = 0,0,0.9\n",
    "    for i in range(max_epochs):\n",
    "        dw,db=0,0\n",
    "        #partial updates\n",
    "        v_w = gamma*prev_v_w\n",
    "        v_b = gamma*prev_v_b\n",
    "        for x,y in zip(X,Y):\n",
    "            dw = dw + grad_w(w-v_w,b-v_b,x,y)\n",
    "            db = db + grad_b(w-v_w,b-v_b,x,y)\n",
    "        \n",
    "        v_w = gamma*prev_v_w + eta*dw\n",
    "        v_b = gamma*prev_v_b + eta*db\n",
    "        w = w - v_w\n",
    "        b = b - v_b\n",
    "        prev_v_w = v_w\n",
    "        prev_v_b = v_b"
   ]
  },
  {
   "cell_type": "code",
   "execution_count": 9,
   "metadata": {},
   "outputs": [],
   "source": [
    "def mini_batch_gd():\n",
    "    w,b,eta = -2,-2,1.0\n",
    "    mini_batch_size,num_points_seen = 2,0\n",
    "    for i in range(max_epochs):\n",
    "        dw,db,num_points = 0,0,0\n",
    "        for x,y in zip(X,Y):\n",
    "            dw = dw + grad_w(w,b,x,y)\n",
    "            db = db + grad_b(w,b,x,y)\n",
    "            num_points_seen += 1\n",
    "            \n",
    "            if num_points_seen % mini_batch_size == 0:\n",
    "                w = w - eta*dw\n",
    "                b = b - eta*db\n",
    "                dw,db=0"
   ]
  },
  {
   "cell_type": "code",
   "execution_count": 10,
   "metadata": {},
   "outputs": [],
   "source": [
    "def stochastic_gd():\n",
    "    w,b,eta = -2,-2,1.0\n",
    "    for i in range(max_epochs):\n",
    "        dw,db = 0,0\n",
    "        for x,y in zip(X,Y):\n",
    "            dw = dw + grad_w(w,b,x,y)\n",
    "            db = db + grad_b(w,b,x,y)\n",
    "            w = w - eta*dw\n",
    "            b = b - eta*db\n",
    "        "
   ]
  },
  {
   "cell_type": "code",
   "execution_count": 11,
   "metadata": {},
   "outputs": [],
   "source": [
    "def accl_momentum_gd():\n",
    "    w,b,eta = init_w,init_b,1.0\n",
    "    prev_v_w,prev_v_b,gamma = 0,0,0.9\n",
    "    for i in range(max_epochs):\n",
    "        dw,db=0,0\n",
    "        for x,y in zip(X,Y):\n",
    "            dw = dw + grad_w(w,b,x,y)\n",
    "            db = db + grad_b(w,b,x,y)\n",
    "        \n",
    "            v_w = gamma*prev_v_w + eta*dw\n",
    "            v_b = gamma*prev_v_b + eta*db\n",
    "            w = w - v_w\n",
    "            b = b - v_b\n",
    "            prev_v_w = v_w\n",
    "            prev_v_b = v_b"
   ]
  },
  {
   "cell_type": "code",
   "execution_count": 12,
   "metadata": {},
   "outputs": [],
   "source": [
    "def accl_NAG():\n",
    "    w,b,eta = init_w,init_b,1.0\n",
    "    prev_v_w,prev_v_b,gamma = 0,0,0.9\n",
    "    for i in range(max_epochs):\n",
    "        dw,db=0,0\n",
    "        #partial updates\n",
    "        v_w = gamma*prev_v_w\n",
    "        v_b = gamma*prev_v_b\n",
    "        for x,y in zip(X,Y):\n",
    "            dw = dw + grad_w(w-v_w,b-v_b,x,y)\n",
    "            db = db + grad_b(w-v_w,b-v_b,x,y)\n",
    "        \n",
    "            v_w = gamma*prev_v_w + eta*dw\n",
    "            v_b = gamma*prev_v_b + eta*db\n",
    "            w = w - v_w\n",
    "            b = b - v_b\n",
    "            prev_v_w = v_w\n",
    "            prev_v_b = v_b"
   ]
  },
  {
   "cell_type": "code",
   "execution_count": 13,
   "metadata": {},
   "outputs": [],
   "source": [
    "def line_serach():\n",
    "    w,b,etas = init_w ,init_b,[0.1,0.5,1.0,5.0,10.0]\n",
    "    for i in range(max_epochs):\n",
    "        dw,db=0,0\n",
    "        for x,y in zip(X,Y):\n",
    "            dw += grad_w(w,b,x,y)\n",
    "            db += grad_b(w,b,x,y)\n",
    "        min_error = 10000   #set it to a large value\n",
    "        best_w,best_b = w,b\n",
    "        for eta in etas:\n",
    "            tmp_w = w - eta*dw\n",
    "            tmp_b = b - eta*db\n",
    "            if error(tmp_w,tmp_b) < min_error:\n",
    "                best_w = tmp_w\n",
    "                best_b = tmp_b\n",
    "                min_error = error(tmp_w,tmp_b)\n",
    "        w,b = best_w,best_b"
   ]
  },
  {
   "cell_type": "code",
   "execution_count": 14,
   "metadata": {},
   "outputs": [],
   "source": [
    "def adagrad():\n",
    "    w,b,etas = init_w,init_b,0.1\n",
    "    v_w,v_b,eps = 0,0,1e-8\n",
    "    for i in range(max_epochs):\n",
    "        dw,db=0,0\n",
    "        for x,y in zip(X,Y):\n",
    "            dw += grad_w(w,b,x,y)\n",
    "            db += grad_b(w,b,x,y)\n",
    "            \n",
    "        v_w = v_w + dw**2\n",
    "        v_b = v_b +dw**2\n",
    "        \n",
    "        w = w - (eta/np.sqrt(v_w + eps))*dw\n",
    "        b = b - (eta/np.sqrt(v_b + eps))*db"
   ]
  },
  {
   "cell_type": "code",
   "execution_count": 17,
   "metadata": {},
   "outputs": [],
   "source": [
    "def rmsprop():\n",
    "    w,b,eta = init_w,init_b,0.1\n",
    "    v_w,b_updates,eps,beta1= 0,0,1e-8,0.9\n",
    "    for i in range(max_epochs):\n",
    "        dw,db=0\n",
    "        for x,y in zip(X,Y):\n",
    "            dw += grad_w(w,b,x,y)\n",
    "            db += grad_b(w,b,x,y)\n",
    "        \n",
    "        v_w = beta1 * v_w + (1 - beta1)*dw**2\n",
    "        v_b = beta1 * v_b + (1 - beta1)*db**2\n",
    "        \n",
    "        w = w - (eta/np.sqrt(v_w+eps))*dw\n",
    "        b = b - (eta/np.sqrt(v_b+eps))*db"
   ]
  },
  {
   "cell_type": "code",
   "execution_count": 19,
   "metadata": {},
   "outputs": [],
   "source": [
    "def adam_optimizer():\n",
    "    w_b_dw_db = [(init_w,init_b,0,0)]\n",
    "    w_history,b_history,error_history = [],[],[]\n",
    "    \n",
    "    w,b,eta,mini_batch_size, num_points_seen = init_w,init_b,0.1,10,0\n",
    "    \n",
    "    m_w,m_b,v_w,v_b,eps,beta1,beta2 = 0,0,0,0,1e-8,0.9,0.99\n",
    "    for i in range(max_epochs):\n",
    "        dw,db=0,0\n",
    "        for x,y in zip(X,Y):\n",
    "            dw += grad_w(w,b,x,y)\n",
    "            db += grad_b(w,b,x,y)\n",
    "            \n",
    "        m_w = beta1*m_w + (1-beta1)*dw\n",
    "        m_b = beta1*m_b + (1-beta1)*db\n",
    "        \n",
    "        v_w = beta2*v_w + (1-beta2)*(dw**2)\n",
    "        v_b = beta2*v_b + (1-beta2)*(db**2)\n",
    "        \n",
    "        m_w = m_w/(1 - math.pow(beta1,i+1))\n",
    "        m_b = m_b/(1 - math.pow(beta1,i+1))\n",
    "        \n",
    "        v_w = v_w/(1 - math.pow(beta2,i+1))\n",
    "        v_b = v_b/(1 - math.pow(beta2,i+1))\n",
    "        \n",
    "        w = w - (eta/np.sqrt(v_w + eps)) * m_w\n",
    "        b = b - (eta/np.sqrt(v_b + eps)) * m_b"
   ]
  },
  {
   "cell_type": "code",
   "execution_count": null,
   "metadata": {},
   "outputs": [],
   "source": []
  }
 ],
 "metadata": {
  "kernelspec": {
   "display_name": "Python 3",
   "language": "python",
   "name": "python3"
  },
  "language_info": {
   "codemirror_mode": {
    "name": "ipython",
    "version": 3
   },
   "file_extension": ".py",
   "mimetype": "text/x-python",
   "name": "python",
   "nbconvert_exporter": "python",
   "pygments_lexer": "ipython3",
   "version": "3.5.5"
  }
 },
 "nbformat": 4,
 "nbformat_minor": 2
}
