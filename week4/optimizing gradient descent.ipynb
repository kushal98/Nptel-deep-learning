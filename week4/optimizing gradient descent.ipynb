{
 "cells": [
  {
   "cell_type": "code",
   "execution_count": 1,
   "metadata": {},
   "outputs": [],
   "source": [
    "import numpy as np\n",
    "import pandas as pd\n",
    "\n",
    "df = pd.read_csv('toys.csv')"
   ]
  },
  {
   "cell_type": "code",
   "execution_count": 6,
   "metadata": {},
   "outputs": [],
   "source": [
    "def sigmoid(w,b,x):\n",
    "    return 1/(1+np.exp(-(w*x+b)))\n",
    "\n",
    "def error(w,b):\n",
    "    err = 0\n",
    "    i=0\n",
    "    for x,y in zip(X,Y):\n",
    "        fx = sigmoid(w,b,x)\n",
    "        err = err+0.5*(fx-y)**2\n",
    "    return err\n",
    "\n",
    "def grad_w(w,b,x,y):\n",
    "    fx = sigmoid(w,b,x)\n",
    "    return (fx-y)*fx*(1-fx)*x\n",
    "\n",
    "def grad_b(w,b,x,y):\n",
    "    fx = sigmoid(w,b,x)\n",
    "    return (fx-y)*fx*(1-fx)"
   ]
  },
  {
   "cell_type": "code",
   "execution_count": 7,
   "metadata": {},
   "outputs": [],
   "source": [
    "def momentum_gd():\n",
    "    w,b,eta = init_w,init_b,1.0\n",
    "    prev_v_w,prev_v_b,gamma = 0,0,0.9\n",
    "    for i in range(max_epochs):\n",
    "        dw,db=0,0\n",
    "        for x,y in zip(X,Y):\n",
    "            dw = dw + grad_w(w,b,x,y)\n",
    "            db = db + grad_b(w,b,x,y)\n",
    "        \n",
    "        v_w = gamma*prev_v_w + eta*dw\n",
    "        v_b = gamma*prev_v_b + eta*db\n",
    "        w = w - v_w\n",
    "        b = b - v_b\n",
    "        prev_v_w = v_w\n",
    "        prev_v_b = v_b"
   ]
  },
  {
   "cell_type": "code",
   "execution_count": 8,
   "metadata": {},
   "outputs": [],
   "source": [
    "def NAG():\n",
    "    w,b,eta = init_w,init_b,1.0\n",
    "    prev_v_w,prev_v_b,gamma = 0,0,0.9\n",
    "    for i in range(max_epochs):\n",
    "        dw,db=0,0\n",
    "        #partial updates\n",
    "        v_w = gamma*prev_v_w\n",
    "        v_b = gamma*prev_v_b\n",
    "        for x,y in zip(X,Y):\n",
    "            dw = dw + grad_w(w-v_w,b-v_b,x,y)\n",
    "            db = db + grad_b(w-v_w,b-v_b,x,y)\n",
    "        \n",
    "        v_w = gamma*prev_v_w + eta*dw\n",
    "        v_b = gamma*prev_v_b + eta*db\n",
    "        w = w - v_w\n",
    "        b = b - v_b\n",
    "        prev_v_w = v_w\n",
    "        prev_v_b = v_b"
   ]
  },
  {
   "cell_type": "code",
   "execution_count": null,
   "metadata": {},
   "outputs": [],
   "source": [
    "def mini_batch_gd():\n",
    "    w,b,eta = -2,-2,1.0\n",
    "    mini_batch_size,num_points_seen = 2,0\n",
    "    for i in range(max_epochs):\n",
    "        dw,db,num_points = 0,0,0\n",
    "        for x,y in zip(X,Y):\n",
    "            dw = dw + grad_w(w,b,x,y)\n",
    "            db = db + grad_b(w,b,x,y)\n",
    "            num_points_seen += 1\n",
    "            \n",
    "            if num_points_seen % mini_batch_size == 0:\n",
    "                w"
   ]
  }
 ],
 "metadata": {
  "kernelspec": {
   "display_name": "Python 3",
   "language": "python",
   "name": "python3"
  },
  "language_info": {
   "codemirror_mode": {
    "name": "ipython",
    "version": 3
   },
   "file_extension": ".py",
   "mimetype": "text/x-python",
   "name": "python",
   "nbconvert_exporter": "python",
   "pygments_lexer": "ipython3",
   "version": "3.5.5"
  }
 },
 "nbformat": 4,
 "nbformat_minor": 2
}
